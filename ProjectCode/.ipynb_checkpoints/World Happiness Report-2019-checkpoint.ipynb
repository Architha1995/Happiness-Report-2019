{
 "cells": [
  {
   "cell_type": "markdown",
   "metadata": {},
   "source": [
    "# Importing Libraries"
   ]
  },
  {
   "cell_type": "code",
   "execution_count": 1,
   "metadata": {},
   "outputs": [],
   "source": [
    "import numpy as np\n",
    "import pandas as pd\n",
    "import seaborn as sns\n",
    "from scipy import stats\n",
    "import matplotlib.pyplot as plt\n",
    "from sklearn.model_selection import train_test_split\n",
    "from sklearn.linear_model import LinearRegression\n",
    "from sklearn import metrics\n",
    "from sklearn.ensemble import RandomForestRegressor\n",
    "from sklearn.model_selection import GridSearchCV"
   ]
  },
  {
   "cell_type": "markdown",
   "metadata": {},
   "source": [
    "# Importing Happiness report for the year 2019"
   ]
  },
  {
   "cell_type": "code",
   "execution_count": 5,
   "metadata": {},
   "outputs": [
    {
     "name": "stdout",
     "output_type": "stream",
     "text": [
      "   Overall rank Country or region  Score  GDP per capita  Social support  \\\n",
      "0             1           Finland  7.769           1.340           1.587   \n",
      "1             2           Denmark  7.600           1.383           1.573   \n",
      "2             3            Norway  7.554           1.488           1.582   \n",
      "3             4           Iceland  7.494           1.380           1.624   \n",
      "4             5       Netherlands  7.488           1.396           1.522   \n",
      "\n",
      "   Healthy life expectancy  Freedom to make life choices  Generosity  \\\n",
      "0                    0.986                         0.596       0.153   \n",
      "1                    0.996                         0.592       0.252   \n",
      "2                    1.028                         0.603       0.271   \n",
      "3                    1.026                         0.591       0.354   \n",
      "4                    0.999                         0.557       0.322   \n",
      "\n",
      "   Perceptions of corruption  \n",
      "0                      0.393  \n",
      "1                      0.410  \n",
      "2                      0.341  \n",
      "3                      0.118  \n",
      "4                      0.298  \n",
      "Index(['Overall rank', 'Country or region', 'Score', 'GDP per capita',\n",
      "       'Social support', 'Healthy life expectancy',\n",
      "       'Freedom to make life choices', 'Generosity',\n",
      "       'Perceptions of corruption'],\n",
      "      dtype='object')\n"
     ]
    }
   ],
   "source": [
    "happiness = pd.read_csv(r'D:\\Kaggle Projects\\Happiness-Report-2019\\Dataset\\2019.csv')\n",
    "print(happiness.head())\n",
    "print(happiness.columns)"
   ]
  },
  {
   "cell_type": "markdown",
   "metadata": {},
   "source": [
    "# Finding missing values"
   ]
  },
  {
   "cell_type": "code",
   "execution_count": 43,
   "metadata": {},
   "outputs": [
    {
     "name": "stdout",
     "output_type": "stream",
     "text": [
      "       Overall rank       Score  GDP per capita  Social support  \\\n",
      "count    156.000000  156.000000      156.000000      156.000000   \n",
      "mean      78.500000    5.407096        0.905147        1.208814   \n",
      "std       45.177428    1.113120        0.398389        0.299191   \n",
      "min        1.000000    2.853000        0.000000        0.000000   \n",
      "25%       39.750000    4.544500        0.602750        1.055750   \n",
      "50%       78.500000    5.379500        0.960000        1.271500   \n",
      "75%      117.250000    6.184500        1.232500        1.452500   \n",
      "max      156.000000    7.769000        1.684000        1.624000   \n",
      "\n",
      "       Healthy life expectancy  Freedom to make life choices  Generosity  \\\n",
      "count               156.000000                    156.000000  156.000000   \n",
      "mean                  0.725244                      0.392571    0.184846   \n",
      "std                   0.242124                      0.143289    0.095254   \n",
      "min                   0.000000                      0.000000    0.000000   \n",
      "25%                   0.547750                      0.308000    0.108750   \n",
      "50%                   0.789000                      0.417000    0.177500   \n",
      "75%                   0.881750                      0.507250    0.248250   \n",
      "max                   1.141000                      0.631000    0.566000   \n",
      "\n",
      "       Perceptions of corruption  \n",
      "count                 156.000000  \n",
      "mean                    0.110603  \n",
      "std                     0.094538  \n",
      "min                     0.000000  \n",
      "25%                     0.047000  \n",
      "50%                     0.085500  \n",
      "75%                     0.141250  \n",
      "max                     0.453000  \n",
      "Overall rank                    0\n",
      "Country or region               0\n",
      "Score                           0\n",
      "GDP per capita                  0\n",
      "Social support                  0\n",
      "Healthy life expectancy         0\n",
      "Freedom to make life choices    0\n",
      "Generosity                      0\n",
      "Perceptions of corruption       0\n",
      "dtype: int64\n"
     ]
    }
   ],
   "source": [
    "print(happiness.describe())\n",
    "print(happiness.isnull().sum())"
   ]
  },
  {
   "cell_type": "markdown",
   "metadata": {},
   "source": [
    "# Finding Correlation"
   ]
  },
  {
   "cell_type": "code",
   "execution_count": 44,
   "metadata": {},
   "outputs": [
    {
     "data": {
      "image/png": "[encoded data removed]",
      "text/plain": [
       "<Figure size 1224x576 with 2 Axes>"
      ]
     },
     "metadata": {
      "needs_background": "light"
     },
     "output_type": "display_data"
    }
   ],
   "source": [
    "\n",
    "plt.figure(figsize=(17,8))\n",
    "sns.heatmap(happiness.corr(),square=True,annot=True,cmap=sns.diverging_palette(20,200))\n",
    "plt.show()\n",
    "\n",
    "# High correlation - GDP and Healthy life expectancy\n",
    "# Score - GDP, Healthy life expectancy,social support"
   ]
  },
  {
   "cell_type": "raw",
   "metadata": {},
   "source": [
    "From the heatmap, it is observed that strong positive correlation exist between 'GDP per capita' and 'Healthy life expectancy', with a value of 0.84.The target variable,'Score', has relatively high positive correlation with 'GDP per capita' of 0.79.The variables 'Healthy life expectancy' and 'Social support' also contributes to a good correlation with the final variable,with a magnitude of 0.78 each."
   ]
  },
  {
   "cell_type": "markdown",
   "metadata": {},
   "source": [
    "# Seperating target and input variables"
   ]
  },
  {
   "cell_type": "code",
   "execution_count": 11,
   "metadata": {},
   "outputs": [
    {
     "name": "stdout",
     "output_type": "stream",
     "text": [
      "(156,)\n",
      "(156, 6)\n"
     ]
    }
   ],
   "source": [
    "Y_variables = happiness['Score']\n",
    "print(Y_variables.shape)\n",
    "X_variables = happiness.drop(['Score','Country or region','Overall rank'],axis=1)\n",
    "print(X_variables.shape)"
   ]
  },
  {
   "cell_type": "markdown",
   "metadata": {},
   "source": [
    "# Splitting dataset into test dataset and train dataset"
   ]
  },
  {
   "cell_type": "code",
   "execution_count": 12,
   "metadata": {},
   "outputs": [],
   "source": [
    "#Choosing a split of 25 % for test data , with a random_state=0 inorder to reproduce the result if needed.\n",
    "\n",
    "x_train,x_test,y_train,y_test = train_test_split(X_variables,Y_variables,test_size=0.25,random_state=0)"
   ]
  },
  {
   "cell_type": "code",
   "execution_count": 13,
   "metadata": {},
   "outputs": [
    {
     "name": "stdout",
     "output_type": "stream",
     "text": [
      "(117, 6)\n",
      "(39, 6)\n",
      "     GDP per capita  Social support  Healthy life expectancy  \\\n",
      "26            0.800           1.269                    0.746   \n",
      "54            1.237           1.528                    0.874   \n",
      "37            1.246           1.504                    0.881   \n",
      "112           0.879           1.313                    0.477   \n",
      "24            1.368           1.430                    0.914   \n",
      "7             1.303           1.557                    1.026   \n",
      "45            0.882           1.232                    0.758   \n",
      "107           0.960           1.427                    0.805   \n",
      "137           0.578           1.058                    0.426   \n",
      "40            0.745           1.529                    0.756   \n",
      "90            0.987           1.224                    0.815   \n",
      "51            1.050           1.409                    0.828   \n",
      "108           0.574           1.122                    0.637   \n",
      "119           0.308           0.939                    0.428   \n",
      "56            1.120           1.402                    0.798   \n",
      "147           1.041           1.145                    0.538   \n",
      "33            1.572           1.463                    1.141   \n",
      "118           0.886           0.666                    0.752   \n",
      "44            0.694           1.325                    0.835   \n",
      "128           0.268           0.841                    0.242   \n",
      "145           0.366           1.114                    0.433   \n",
      "8             1.365           1.505                    1.039   \n",
      "139           0.755           0.765                    0.588   \n",
      "59            1.173           1.508                    0.729   \n",
      "111           0.000           0.698                    0.268   \n",
      "152           0.476           0.885                    0.499   \n",
      "85            0.551           1.438                    0.723   \n",
      "62            0.855           1.475                    0.777   \n",
      "83            0.983           1.294                    0.838   \n",
      "94            0.813           1.321                    0.604   \n",
      "16            1.373           1.454                    0.987   \n",
      "19            1.269           1.487                    0.920   \n",
      "132           0.820           1.390                    0.739   \n",
      "97            0.611           0.868                    0.486   \n",
      "22            1.070           1.323                    0.861   \n",
      "80            1.067           1.465                    0.789   \n",
      "101           0.393           0.437                    0.397   \n",
      "102           0.673           0.799                    0.508   \n",
      "92            1.029           1.125                    0.893   \n",
      "\n",
      "     Freedom to make life choices  Generosity  Perceptions of corruption  \n",
      "26                          0.535       0.175                      0.078  \n",
      "54                          0.495       0.103                      0.161  \n",
      "37                          0.334       0.121                      0.014  \n",
      "112                         0.401       0.070                      0.056  \n",
      "24                          0.351       0.242                      0.097  \n",
      "7                           0.585       0.330                      0.380  \n",
      "45                          0.489       0.262                      0.006  \n",
      "107                         0.154       0.064                      0.047  \n",
      "137                         0.431       0.247                      0.087  \n",
      "40                          0.631       0.322                      0.240  \n",
      "90                          0.216       0.166                      0.027  \n",
      "51                          0.557       0.359                      0.028  \n",
      "108                         0.609       0.232                      0.062  \n",
      "119                         0.382       0.269                      0.167  \n",
      "56                          0.498       0.215                      0.060  \n",
      "147                         0.455       0.025                      0.100  \n",
      "33                          0.556       0.271                      0.453  \n",
      "118                         0.346       0.043                      0.164  \n",
      "44                          0.435       0.200                      0.127  \n",
      "128                         0.309       0.252                      0.045  \n",
      "145                         0.361       0.151                      0.089  \n",
      "8                           0.584       0.285                      0.308  \n",
      "139                         0.498       0.200                      0.085  \n",
      "59                          0.410       0.146                      0.096  \n",
      "111                         0.559       0.243                      0.270  \n",
      "152                         0.417       0.276                      0.147  \n",
      "85                          0.508       0.300                      0.023  \n",
      "62                          0.514       0.184                      0.080  \n",
      "83                          0.345       0.185                      0.034  \n",
      "94                          0.457       0.370                      0.167  \n",
      "16                          0.495       0.261                      0.265  \n",
      "19                          0.457       0.046                      0.036  \n",
      "132                         0.178       0.187                      0.010  \n",
      "97                          0.381       0.245                      0.040  \n",
      "22                          0.433       0.074                      0.073  \n",
      "80                          0.235       0.094                      0.142  \n",
      "101                         0.349       0.175                      0.082  \n",
      "102                         0.372       0.105                      0.093  \n",
      "92                          0.521       0.058                      0.100  \n"
     ]
    }
   ],
   "source": [
    "print(x_train.shape)\n",
    "print(x_test.shape)\n",
    "print(x_test)"
   ]
  },
  {
   "cell_type": "code",
   "execution_count": 14,
   "metadata": {},
   "outputs": [
    {
     "name": "stdout",
     "output_type": "stream",
     "text": [
      "       GDP per capita  Social support  Healthy life expectancy  \\\n",
      "count      117.000000      117.000000               117.000000   \n",
      "mean         0.915068        1.203769                 0.729769   \n",
      "std          0.413312        0.302671                 0.251120   \n",
      "min          0.026000        0.000000                 0.000000   \n",
      "25%          0.570000        1.055000                 0.555000   \n",
      "50%          1.002000        1.252000                 0.808000   \n",
      "75%          1.258000        1.442000                 0.910000   \n",
      "max          1.684000        1.624000                 1.122000   \n",
      "\n",
      "       Freedom to make life choices  Generosity  Perceptions of corruption  \n",
      "count                    117.000000  117.000000                 117.000000  \n",
      "mean                       0.379470    0.181906                   0.108675  \n",
      "std                        0.149395    0.096090                   0.092119  \n",
      "min                        0.000000    0.000000                   0.000000  \n",
      "25%                        0.291000    0.109000                   0.050000  \n",
      "50%                        0.394000    0.175000                   0.085000  \n",
      "75%                        0.498000    0.244000                   0.138000  \n",
      "max                        0.603000    0.566000                   0.411000  \n"
     ]
    }
   ],
   "source": [
    "print(x_train.describe())"
   ]
  },
  {
   "cell_type": "markdown",
   "metadata": {},
   "source": [
    "# Finding Outliers"
   ]
  },
  {
   "cell_type": "code",
   "execution_count": 15,
   "metadata": {},
   "outputs": [
    {
     "data": {
      "image/png": "[encoded data removed]",
      "text/plain": [
       "<Figure size 432x288 with 6 Axes>"
      ]
     },
     "metadata": {
      "needs_background": "light"
     },
     "output_type": "display_data"
    }
   ],
   "source": [
    "column_list=x_train.columns.values\n",
    "for i in range(0,len(column_list)):\n",
    "    plt.subplot(4,3,i+1)\n",
    "    sns.boxplot(x_train[column_list[i]])\n",
    "    plt.tight_layout()"
   ]
  },
  {
   "cell_type": "code",
   "execution_count": 57,
   "metadata": {},
   "outputs": [
    {
     "data": {
      "text/html": [
       "<div>\n",
       "<style scoped>\n",
       "    .dataframe tbody tr th:only-of-type {\n",
       "        vertical-align: middle;\n",
       "    }\n",
       "\n",
       "    .dataframe tbody tr th {\n",
       "        vertical-align: top;\n",
       "    }\n",
       "\n",
       "    .dataframe thead th {\n",
       "        text-align: right;\n",
       "    }\n",
       "</style>\n",
       "<table border=\"1\" class=\"dataframe\">\n",
       "  <thead>\n",
       "    <tr style=\"text-align: right;\">\n",
       "      <th></th>\n",
       "      <th>Overall rank</th>\n",
       "      <th>Country or region</th>\n",
       "      <th>Score</th>\n",
       "      <th>GDP per capita</th>\n",
       "      <th>Social support</th>\n",
       "      <th>Healthy life expectancy</th>\n",
       "      <th>Freedom to make life choices</th>\n",
       "      <th>Generosity</th>\n",
       "      <th>Perceptions of corruption</th>\n",
       "      <th>Zscore_GDP</th>\n",
       "      <th>Zscore_Social</th>\n",
       "      <th>Zscore_Healthy</th>\n",
       "      <th>Zscore_Freedom</th>\n",
       "      <th>Zscore_Generosity</th>\n",
       "      <th>Zscore_Perceptions</th>\n",
       "    </tr>\n",
       "  </thead>\n",
       "  <tbody>\n",
       "    <tr>\n",
       "      <th>1</th>\n",
       "      <td>2</td>\n",
       "      <td>Denmark</td>\n",
       "      <td>7.600</td>\n",
       "      <td>1.383</td>\n",
       "      <td>1.573</td>\n",
       "      <td>0.996</td>\n",
       "      <td>0.592</td>\n",
       "      <td>0.252</td>\n",
       "      <td>0.410</td>\n",
       "      <td>1.203324</td>\n",
       "      <td>1.221154</td>\n",
       "      <td>1.121857</td>\n",
       "      <td>1.396277</td>\n",
       "      <td>0.707265</td>\n",
       "      <td>3.177158</td>\n",
       "    </tr>\n",
       "    <tr>\n",
       "      <th>33</th>\n",
       "      <td>34</td>\n",
       "      <td>Singapore</td>\n",
       "      <td>6.262</td>\n",
       "      <td>1.572</td>\n",
       "      <td>1.463</td>\n",
       "      <td>1.141</td>\n",
       "      <td>0.556</td>\n",
       "      <td>0.271</td>\n",
       "      <td>0.453</td>\n",
       "      <td>1.679262</td>\n",
       "      <td>0.852312</td>\n",
       "      <td>1.722652</td>\n",
       "      <td>1.144228</td>\n",
       "      <td>0.907373</td>\n",
       "      <td>3.633468</td>\n",
       "    </tr>\n",
       "    <tr>\n",
       "      <th>151</th>\n",
       "      <td>152</td>\n",
       "      <td>Rwanda</td>\n",
       "      <td>3.334</td>\n",
       "      <td>0.359</td>\n",
       "      <td>0.711</td>\n",
       "      <td>0.614</td>\n",
       "      <td>0.555</td>\n",
       "      <td>0.217</td>\n",
       "      <td>0.411</td>\n",
       "      <td>-1.375303</td>\n",
       "      <td>-1.669224</td>\n",
       "      <td>-0.460929</td>\n",
       "      <td>1.137227</td>\n",
       "      <td>0.338645</td>\n",
       "      <td>3.187770</td>\n",
       "    </tr>\n",
       "  </tbody>\n",
       "</table>\n",
       "</div>"
      ],
      "text/plain": [
       "     Overall rank Country or region  Score  GDP per capita  Social support  \\\n",
       "1               2           Denmark  7.600           1.383           1.573   \n",
       "33             34         Singapore  6.262           1.572           1.463   \n",
       "151           152            Rwanda  3.334           0.359           0.711   \n",
       "\n",
       "     Healthy life expectancy  Freedom to make life choices  Generosity  \\\n",
       "1                      0.996                         0.592       0.252   \n",
       "33                     1.141                         0.556       0.271   \n",
       "151                    0.614                         0.555       0.217   \n",
       "\n",
       "     Perceptions of corruption  Zscore_GDP  Zscore_Social  Zscore_Healthy  \\\n",
       "1                        0.410    1.203324       1.221154        1.121857   \n",
       "33                       0.453    1.679262       0.852312        1.722652   \n",
       "151                      0.411   -1.375303      -1.669224       -0.460929   \n",
       "\n",
       "     Zscore_Freedom  Zscore_Generosity  Zscore_Perceptions  \n",
       "1          1.396277           0.707265            3.177158  \n",
       "33         1.144228           0.907373            3.633468  \n",
       "151        1.137227           0.338645            3.187770  "
      ]
     },
     "execution_count": 57,
     "metadata": {},
     "output_type": "execute_result"
    }
   ],
   "source": [
    "# Finding Z score of each variable to check if there are values outside the limit of +3 and -3.Also,the score value \n",
    "# should vary between 0 and 10\n",
    "\n",
    "happiness['Zscore_GDP'] = stats.zscore(happiness['GDP per capita'])\n",
    "print(happiness.query('Zscore_GDP > 3 | Zscore_GDP < -3'))\n",
    "# No outliers\n",
    "\n",
    "happiness['Zscore_Social'] = stats.zscore(happiness['Social support'])\n",
    "happiness.query('Zscore_Social > 3 | Zscore_Social < -3')\n",
    "# Central African Republic has Social support score of 0.0\n",
    "\n",
    "\n",
    "happiness['Zscore_Healthy'] = stats.zscore(happiness['Healthy life expectancy'])\n",
    "happiness.query('Zscore_Healthy > 3 | Zscore_Healthy < -3')\n",
    "# Swaziland has Healthy life expectancy score of 0.0\n",
    "\n",
    "happiness['Zscore_Freedom'] = stats.zscore(happiness['Freedom to make life choices'])\n",
    "happiness.query('Zscore_Freedom > 3 | Zscore_Freedom < -3')\n",
    "# no outliers\n",
    "\n",
    "happiness['Zscore_Generosity'] = stats.zscore(happiness['Generosity'])\n",
    "happiness.query('Zscore_Generosity > 3 | Zscore_Generosity < -3')\n",
    "# Indonesia has 0.498 and Myanmar has 0.566\n",
    "\n",
    "happiness['Zscore_Perceptions'] = stats.zscore(happiness['Perceptions of corruption'])\n",
    "happiness.query('Zscore_Perceptions > 3 | Zscore_Perceptions < -3')\n",
    "# Denmark has 0.410 , Singapore has 0.453 and Rwanda has  0.411"
   ]
  },
  {
   "cell_type": "raw",
   "metadata": {},
   "source": [
    "7 country/region out of 156 has z score outside the limit.However, since the scores are allowed to have a value ranging from 0.0 to 10.0,we choose not to remove these rows.Moreover,removing these rows removes the country record entirely."
   ]
  },
  {
   "cell_type": "markdown",
   "metadata": {},
   "source": [
    "# Linear Regression"
   ]
  },
  {
   "cell_type": "code",
   "execution_count": 71,
   "metadata": {},
   "outputs": [
    {
     "name": "stdout",
     "output_type": "stream",
     "text": [
      "Intercept :  2.0313046209162966\n",
      "Coefficients : \n"
     ]
    },
    {
     "data": {
      "text/plain": [
       "[('GDP per capita', 0.9307608162750783),\n",
       " ('Social support', 1.510161323123919),\n",
       " ('Healthy life expectancy', 0.9890104958813666)]"
      ]
     },
     "execution_count": 71,
     "metadata": {},
     "output_type": "execute_result"
    }
   ],
   "source": [
    "#Multiple Linear regression is choosen since 3 of these variables shown high correlation to the target variable,Score.\n",
    "\n",
    "feature_cols=['GDP per capita', 'Social support', 'Healthy life expectancy'] #list(x_train.columns)\n",
    "X = x_train[feature_cols]\n",
    "happiness_model = LinearRegression()\n",
    "happiness_model.fit(X,y_train)\n",
    "print('Intercept : ',happiness_model.intercept_)\n",
    "print('Coefficients : ')\n",
    "list(zip(feature_cols,happiness_model.coef_))"
   ]
  },
  {
   "cell_type": "code",
   "execution_count": 72,
   "metadata": {},
   "outputs": [
    {
     "name": "stdout",
     "output_type": "stream",
     "text": [
      "[5.43010982 6.35457743 6.33363347 5.3040432  6.3680717  6.61013191\n",
      " 5.46242437 5.87598866 4.58835352 5.78145003 5.60444656 5.95532147\n",
      " 4.88996202 4.15931693 5.98023329 5.26144899 6.83228762 4.60546204\n",
      " 5.50404014 3.79013473 4.48252434 6.60216783 4.47084062 6.12139899\n",
      " 3.35045204 4.30435578 5.4308204  5.82305423 5.72918205 5.38029861\n",
      " 6.48116714 6.36793964 5.62453149 4.39147861 5.87670016 6.01714203\n",
      " 3.44967129 4.36674288 5.57117536]\n"
     ]
    }
   ],
   "source": [
    "#Predicting using x_test\n",
    "\n",
    "Xtest= x_test[feature_cols]\n",
    "y_pred = happiness_model.predict(Xtest)\n",
    "print(y_pred)"
   ]
  },
  {
   "cell_type": "code",
   "execution_count": 73,
   "metadata": {},
   "outputs": [
    {
     "name": "stdout",
     "output_type": "stream",
     "text": [
      "R square :  0.528733630391774\n"
     ]
    }
   ],
   "source": [
    "#Evaluating model using rsquared value\n",
    "\n",
    "r2 = metrics.r2_score(y_test,y_pred)\n",
    "print('R square : ',r2)"
   ]
  },
  {
   "cell_type": "code",
   "execution_count": 74,
   "metadata": {},
   "outputs": [
    {
     "name": "stdout",
     "output_type": "stream",
     "text": [
      "Adjusted R square :  0.5246592813749882\n"
     ]
    }
   ],
   "source": [
    "#Calculating Adjusted rsquare to see if the added variable is relevant enough.\n",
    "\n",
    "x=x_train[feature_cols]\n",
    "k=len(x_train[feature_cols].columns)\n",
    "n = x.size\n",
    "adj2=1 -((1-r2)*(n-1)/(n-k-1))\n",
    "print('Adjusted R square : ',adj2)"
   ]
  },
  {
   "cell_type": "code",
   "execution_count": 75,
   "metadata": {},
   "outputs": [
    {
     "name": "stdout",
     "output_type": "stream",
     "text": [
      "Intercept :  1.9009702004685725\n",
      "Coefficients : \n"
     ]
    },
    {
     "data": {
      "text/plain": [
       "[('GDP per capita', 0.8991552403563778),\n",
       " ('Social support', 1.1667839048389794),\n",
       " ('Healthy life expectancy', 0.8662443596080872),\n",
       " ('Freedom to make life choices', 1.7450487623104227)]"
      ]
     },
     "execution_count": 75,
     "metadata": {},
     "output_type": "execute_result"
    }
   ],
   "source": [
    "#Adding more columns to improve Rsquared value.\n",
    "\n",
    "feature_cols2=['GDP per capita', 'Social support', 'Healthy life expectancy','Freedom to make life choices'] \n",
    "X= x_train[feature_cols2]\n",
    "happiness_model=LinearRegression()\n",
    "happiness_model.fit(X,y_train)\n",
    "print('Intercept : ',happiness_model.intercept_)\n",
    "print('Coefficients : ')\n",
    "list(zip(feature_cols2,happiness_model.coef_))"
   ]
  },
  {
   "cell_type": "code",
   "execution_count": 27,
   "metadata": {},
   "outputs": [
    {
     "ename": "NameError",
     "evalue": "name 'feature_cols2' is not defined",
     "output_type": "error",
     "traceback": [
      "\u001b[1;31m---------------------------------------------------------------------------\u001b[0m",
      "\u001b[1;31mNameError\u001b[0m                                 Traceback (most recent call last)",
      "\u001b[1;32m<ipython-input-27-99ed96506b5c>\u001b[0m in \u001b[0;36m<module>\u001b[1;34m\u001b[0m\n\u001b[0;32m      1\u001b[0m \u001b[1;31m#Predicting and evaluating\u001b[0m\u001b[1;33m\u001b[0m\u001b[1;33m\u001b[0m\u001b[1;33m\u001b[0m\u001b[0m\n\u001b[0;32m      2\u001b[0m \u001b[1;33m\u001b[0m\u001b[0m\n\u001b[1;32m----> 3\u001b[1;33m \u001b[0mXtest\u001b[0m\u001b[1;33m=\u001b[0m \u001b[0mx_test\u001b[0m\u001b[1;33m[\u001b[0m\u001b[0mfeature_cols2\u001b[0m\u001b[1;33m]\u001b[0m\u001b[1;33m\u001b[0m\u001b[1;33m\u001b[0m\u001b[0m\n\u001b[0m\u001b[0;32m      4\u001b[0m \u001b[0my_pred\u001b[0m \u001b[1;33m=\u001b[0m \u001b[0mhappiness_model\u001b[0m\u001b[1;33m.\u001b[0m\u001b[0mpredict\u001b[0m\u001b[1;33m(\u001b[0m\u001b[0mXtest\u001b[0m\u001b[1;33m)\u001b[0m\u001b[1;33m\u001b[0m\u001b[1;33m\u001b[0m\u001b[0m\n\u001b[0;32m      5\u001b[0m \u001b[0mr2\u001b[0m \u001b[1;33m=\u001b[0m \u001b[0mmetrics\u001b[0m\u001b[1;33m.\u001b[0m\u001b[0mr2_score\u001b[0m\u001b[1;33m(\u001b[0m\u001b[0my_test\u001b[0m\u001b[1;33m,\u001b[0m\u001b[0my_pred\u001b[0m\u001b[1;33m)\u001b[0m\u001b[1;33m\u001b[0m\u001b[1;33m\u001b[0m\u001b[0m\n",
      "\u001b[1;31mNameError\u001b[0m: name 'feature_cols2' is not defined"
     ]
    }
   ],
   "source": [
    "#Predicting and evaluating\n",
    "\n",
    "Xtest= x_test[feature_cols2]\n",
    "y_pred = happiness_model.predict(Xtest)\n",
    "r2 = metrics.r2_score(y_test,y_pred)\n",
    "print('R square : ',r2)\n",
    "#Calculating Adjusted rsquare\n",
    "x=x_train[feature_cols2]\n",
    "k=len(x_train[feature_cols2].columns)\n",
    "n = x.size\n",
    "adj2=1 -((1-r2)*(n-1)/(n-k-1))\n",
    "print('Adjusted R square : ',adj2)"
   ]
  },
  {
   "cell_type": "code",
   "execution_count": 77,
   "metadata": {},
   "outputs": [
    {
     "name": "stdout",
     "output_type": "stream",
     "text": [
      "Adjusted R square :  0.5973428615855005\n"
     ]
    }
   ],
   "source": []
  },
  {
   "cell_type": "code",
   "execution_count": 78,
   "metadata": {},
   "outputs": [
    {
     "name": "stdout",
     "output_type": "stream",
     "text": [
      "Intercept :  1.8458578452561394\n",
      "Coefficients : \n"
     ]
    },
    {
     "data": {
      "text/plain": [
       "[('GDP per capita', 0.8089133279310706),\n",
       " ('Social support', 1.2993339785310833),\n",
       " ('Healthy life expectancy', 0.8196352505222162),\n",
       " ('Freedom to make life choices', 1.3707777506840786),\n",
       " ('Perceptions of corruption', 1.4186189883005167)]"
      ]
     },
     "execution_count": 78,
     "metadata": {},
     "output_type": "execute_result"
    }
   ],
   "source": [
    "#Since there is an increase in Adjusted r square,the added columns are not irrelavant.\n",
    "#So,adding more columns to improve accuracy.\n",
    "\n",
    "feature_cols3=['GDP per capita', 'Social support', 'Healthy life expectancy','Freedom to make life choices','Perceptions of corruption'] \n",
    "X= x_train[feature_cols3]\n",
    "happiness_model=LinearRegression()\n",
    "happiness_model.fit(X,y_train)\n",
    "print('Intercept : ',happiness_model.intercept_)\n",
    "print('Coefficients : ')\n",
    "list(zip(feature_cols3,happiness_model.coef_))"
   ]
  },
  {
   "cell_type": "code",
   "execution_count": 79,
   "metadata": {},
   "outputs": [
    {
     "name": "stdout",
     "output_type": "stream",
     "text": [
      "R square :  0.5943788732470441\n"
     ]
    }
   ],
   "source": [
    "#Predicting and evaluating\n",
    "Xtest = x_test[feature_cols3]\n",
    "y_pred = happiness_model.predict(Xtest)\n",
    "r2 = metrics.r2_score(y_test,y_pred)\n",
    "print('R square : ',r2)"
   ]
  },
  {
   "cell_type": "code",
   "execution_count": 80,
   "metadata": {},
   "outputs": [
    {
     "name": "stdout",
     "output_type": "stream",
     "text": [
      "Adjusted R square :  0.5908761001317335\n"
     ]
    }
   ],
   "source": [
    "#Calculating Adjusted rsquare\n",
    "x=x_train[feature_cols3]\n",
    "k=len(x_train[feature_cols3].columns)\n",
    "n = x.size\n",
    "adj2=1 -((1-r2)*(n-1)/(n-k-1))\n",
    "print('Adjusted R square : ',adj2)"
   ]
  },
  {
   "cell_type": "raw",
   "metadata": {},
   "source": [
    "There is a decrease in adjusted r square which means that the added column is irrelevant to Score."
   ]
  },
  {
   "cell_type": "code",
   "execution_count": 83,
   "metadata": {},
   "outputs": [
    {
     "name": "stdout",
     "output_type": "stream",
     "text": [
      "Intercept :  1.781925808898353\n",
      "Coefficients : \n"
     ]
    },
    {
     "data": {
      "text/plain": [
       "[('GDP per capita', 0.9037562106275546),\n",
       " ('Social support', 1.2210797677653167),\n",
       " ('Healthy life expectancy', 0.8589827309624392),\n",
       " ('Freedom to make life choices', 1.5999148294238454),\n",
       " ('Generosity', 0.6038712819674854)]"
      ]
     },
     "execution_count": 83,
     "metadata": {},
     "output_type": "execute_result"
    }
   ],
   "source": [
    "#Adding another column\n",
    "feature_cols4=['GDP per capita', 'Social support', 'Healthy life expectancy','Freedom to make life choices','Generosity'] \n",
    "X= x_train[feature_cols4]\n",
    "happiness_model=LinearRegression()\n",
    "happiness_model.fit(X,y_train)\n",
    "print('Intercept : ',happiness_model.intercept_)\n",
    "print('Coefficients : ')\n",
    "list(zip(feature_cols4,happiness_model.coef_))"
   ]
  },
  {
   "cell_type": "code",
   "execution_count": 84,
   "metadata": {},
   "outputs": [
    {
     "name": "stdout",
     "output_type": "stream",
     "text": [
      "R square :  0.6073767634125224\n",
      "Adjusted R square:  0.6039862345991591\n"
     ]
    }
   ],
   "source": [
    "#Predicting and evaluating\n",
    "Xtest = x_test[feature_cols4]\n",
    "y_pred = happiness_model.predict(Xtest)\n",
    "r2 = metrics.r2_score(y_test,y_pred)\n",
    "print('R square : ',r2)\n",
    "#Calculating Adjusted rsquare\n",
    "x=x_train[feature_cols4]\n",
    "k=len(x_train[feature_cols4].columns)\n",
    "n = x.size\n",
    "adj2=1 -((1-r2)*(n-1)/(n-k-1))\n",
    "print('Adjusted R square: ',adj2)"
   ]
  },
  {
   "cell_type": "raw",
   "metadata": {},
   "source": [
    "Now, the model with 'GDP per capita', 'Social support', 'Healthy life expectancy','Freedom to make life choices','Generosity' shows a better score so far.Considering the strong correlation between GDP per capita nad Healthy Life expectancy and the slightly better correlation of GDP per capita with Score,avoiding the latter ,but the r square value decreased.So the above model is better out of the lot with 60.7 % accuracy."
   ]
  },
  {
   "cell_type": "markdown",
   "metadata": {},
   "source": [
    "# Random Forest"
   ]
  },
  {
   "cell_type": "raw",
   "metadata": {},
   "source": [
    "They say 'there is no free lunch in data science'.To make a prediction model with different algorithm, considering one of the popular ensemble methods- RandomForest.For regression problems, it is RandomforestRegressor.\n"
   ]
  },
  {
   "cell_type": "code",
   "execution_count": 20,
   "metadata": {},
   "outputs": [
    {
     "data": {
      "text/plain": [
       "RandomForestRegressor()"
      ]
     },
     "execution_count": 20,
     "metadata": {},
     "output_type": "execute_result"
    }
   ],
   "source": [
    "RFmodel = RandomForestRegressor()\n",
    "RFmodel.fit(x_train,y_train)"
   ]
  },
  {
   "cell_type": "code",
   "execution_count": 22,
   "metadata": {},
   "outputs": [
    {
     "name": "stdout",
     "output_type": "stream",
     "text": [
      "R square :  0.6366725268083108\n"
     ]
    }
   ],
   "source": [
    "#Predicting and evaluating\n",
    "\n",
    "y_predRF= RFmodel.predict(x_test)\n",
    "r2 = metrics.r2_score(y_test,y_predRF)\n",
    "print('R square : ',r2)"
   ]
  },
  {
   "cell_type": "raw",
   "metadata": {},
   "source": [
    "Here, the rsquared value is better for RandomForest than any of the previous models.Further,inorder to optimise the performance going ahead with hyperparameter tuning."
   ]
  },
  {
   "cell_type": "markdown",
   "metadata": {},
   "source": [
    "# Hyperparameter Tuning"
   ]
  },
  {
   "cell_type": "code",
   "execution_count": 26,
   "metadata": {},
   "outputs": [
    {
     "name": "stdout",
     "output_type": "stream",
     "text": [
      "best parameters: {'bootstrap': False, 'max_features': 'sqrt', 'min_samples_split': 8, 'n_estimators': 100}\n",
      "best score: 0.6747795147987755\n"
     ]
    }
   ],
   "source": [
    "estimator = RandomForestRegressor()\n",
    "param_grid = { \"n_estimators\" :[50,100,200] ,\n",
    "               \"max_features\" : [\"auto\", \"sqrt\", \"log2\"] ,\n",
    "               \"bootstrap\": [True, False] ,\n",
    "               \"min_samples_split\" : [2,4,8]\n",
    "             }\n",
    "grid = GridSearchCV(estimator, param_grid, cv=5)\n",
    "grid.fit(x_train,y_train)\n",
    "print(f\"best parameters: {grid.best_params_}\")\n",
    "print(f\"best score: {grid.score(x_test,y_test)}\")"
   ]
  },
  {
   "cell_type": "raw",
   "metadata": {},
   "source": [
    "So, this shows the best accuracy and finalising the happiness score prediction model as follows :\n",
    "Algorithm : Random Forest\n",
    "n_estimators : 100\n",
    "min_samples_split :8\n"
   ]
  }
 ],
 "metadata": {
  "kernelspec": {
   "display_name": "Python 3",
   "language": "python",
   "name": "python3"
  },
  "language_info": {
   "codemirror_mode": {
    "name": "ipython",
    "version": 3
   },
   "file_extension": ".py",
   "mimetype": "text/x-python",
   "name": "python",
   "nbconvert_exporter": "python",
   "pygments_lexer": "ipython3",
   "version": "3.7.6"
  }
 },
 "nbformat": 4,
 "nbformat_minor": 4
}
